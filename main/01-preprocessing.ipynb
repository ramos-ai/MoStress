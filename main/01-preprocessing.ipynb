{
 "cells": [
  {
   "cell_type": "code",
   "execution_count": null,
   "metadata": {},
   "outputs": [],
   "source": [
    "import sys, os\n",
    "sys.path.append(\"<WORKSPACE-ROOT-PATH>\")"
   ]
  },
  {
   "cell_type": "code",
   "execution_count": null,
   "metadata": {},
   "outputs": [],
   "source": [
    "import json\n",
    "from os.path import join\n",
    "\n",
    "from datasets.DatasetFactory import DatasetFactory\n",
    "from moStress.preprocessing.MoStressPreprocessing import MoStressPreprocessing\n",
    "from utils.preprocessingCheckpoint import setPreprocessingCheckpoint"
   ]
  },
  {
   "cell_type": "code",
   "execution_count": null,
   "metadata": {},
   "outputs": [],
   "source": [
    "datasetList = [\n",
    "                \"wesad\",\n",
    "                \"SIFv1\",\n",
    "                #\"SIFv2\",\n",
    "            ]"
   ]
  },
  {
   "cell_type": "code",
   "execution_count": null,
   "metadata": {},
   "outputs": [],
   "source": [
    "wesadDataPath =  join(\"..\", \"..\",\"datasets\", \"WESAD\")\n",
    "SIFv1DataPath =  join(\"..\", \"..\",\"datasets\", \"SIFv1\")\n",
    "SIFv2DataPath =  join(\"..\", \"..\",\"datasets\", \"SIFv2\")\n",
    "sifJsonFilePath = join(\"..\", \"configs\", \"sifDatasetOptions.json\")\n",
    "wesadJsonFilePath = join(\"..\", \"configs\", \"wesadDatasetOptions.json\")\n",
    "moStressJsonFilePath = join(\"..\", \"configs\",\"moStressConfigs.json\")"
   ]
  },
  {
   "cell_type": "code",
   "execution_count": null,
   "metadata": {},
   "outputs": [],
   "source": [
    "with open(wesadJsonFilePath, 'r') as j:\n",
    "    wesadOptions = json.loads(j.read())\n",
    "\n",
    "with open(sifJsonFilePath, 'r') as j:\n",
    "    sifJsonFilePath = json.loads(j.read())\n",
    "\n",
    "with open(moStressJsonFilePath, 'r') as j:\n",
    "    moStressConfigs = json.loads(j.read())"
   ]
  },
  {
   "cell_type": "code",
   "execution_count": null,
   "metadata": {},
   "outputs": [],
   "source": [
    "datasetDict = {}\n",
    "if \"WESAD\" in datasetList:\n",
    "    datasetDict[\"WESAD\"] = DatasetFactory().make( \"Wesad Physio Chest Data\", wesadDataPath, wesadOptions[\"Chest Physio Data\"] )\n",
    "if \"SIFv1\" in datasetList:\n",
    "    datasetDict[\"SIFv1\"] = DatasetFactory().make( \"Stress-Inducing Features\", SIFv1DataPath, sifJsonFilePath[\"Stress-Inducing Features v1\"] )\n",
    "if \"SIFv2\" in datasetList:\n",
    "    datasetDict[\"SIFv2\"] = DatasetFactory().make( \"Stress-Inducing Features\", SIFv2DataPath, sifJsonFilePath[\"Stress-Inducing Features v2\"] )"
   ]
  },
  {
   "cell_type": "code",
   "execution_count": null,
   "metadata": {},
   "outputs": [],
   "source": [
    "moStressPreprocessing = {}\n",
    "for dataset in datasetDict:\n",
    "    moStressPreprocessing[dataset] = MoStressPreprocessing(moStressConfigs, datasetDict.get(dataset, []).data, dataset)"
   ]
  },
  {
   "cell_type": "code",
   "execution_count": null,
   "metadata": {},
   "outputs": [],
   "source": [
    "for dataset in moStressPreprocessing:\n",
    "    moStressPreprocessing.get(dataset).execute()"
   ]
  },
  {
   "cell_type": "code",
   "execution_count": null,
   "metadata": {},
   "outputs": [],
   "source": [
    "for dataset in moStressPreprocessing:\n",
    "    setPreprocessingCheckpoint(moStressPreprocessing.get(dataset), dataset)"
   ]
  }
 ],
 "metadata": {
  "kernelspec": {
   "display_name": "Python 3.10.4 64-bit",
   "language": "python",
   "name": "python3"
  },
  "language_info": {
   "codemirror_mode": {
    "name": "ipython",
    "version": 3
   },
   "file_extension": ".py",
   "mimetype": "text/x-python",
   "name": "python",
   "nbconvert_exporter": "python",
   "pygments_lexer": "ipython3",
   "version": "3.10.4"
  },
  "orig_nbformat": 4,
  "vscode": {
   "interpreter": {
    "hash": "916dbcbb3f70747c44a77c7bcd40155683ae19c65e1c03b4aa3499c5328201f1"
   }
  }
 },
 "nbformat": 4,
 "nbformat_minor": 2
}
