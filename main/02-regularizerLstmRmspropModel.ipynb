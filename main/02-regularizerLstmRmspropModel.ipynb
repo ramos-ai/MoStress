{
 "cells": [
  {
   "cell_type": "code",
   "execution_count": null,
   "metadata": {},
   "outputs": [],
   "source": [
    "import sys\n",
    "sys.path.append (\"..\")\n",
    "sys.path.append(\"<WORKSPACE-ROOT-PATH>\")"
   ]
  },
  {
   "cell_type": "code",
   "execution_count": null,
   "metadata": {},
   "outputs": [],
   "source": [
    "from os.path import join\n",
    "import json\n",
    "from moStress.neuralNetwork.MoStressNeuralNetwork import MoStressNeuralNetwork\n",
    "from utils.preprocessingCheckpoint import getPreprocessingCheckpoint\n",
    "from models.EvaluateModel import EvaluateModel"
   ]
  },
  {
   "cell_type": "code",
   "execution_count": null,
   "metadata": {},
   "outputs": [],
   "source": [
    "moStressJsonFilePath = join(\"..\", \"configs\",\"moStressConfigs.json\")\n",
    "\n",
    "with open(moStressJsonFilePath, 'r') as j:\n",
    "    moStressConfigs = json.loads(j.read())\n",
    "    datasetList = moStressConfigs.get(\"datasetList\", \"WESAD\")"
   ]
  },
  {
   "cell_type": "code",
   "execution_count": null,
   "metadata": {},
   "outputs": [],
   "source": [
    "for dataset in datasetList:\n",
    "    trainData, validationData = getPreprocessingCheckpoint(dataset)"
   ]
  },
  {
   "cell_type": "code",
   "execution_count": null,
   "metadata": {},
   "outputs": [],
   "source": [
    "dataset = {\n",
    "    \"features\": trainData[\"features\"],\n",
    "    \"targets\": trainData[\"targets\"],\n",
    "    \"weights\": trainData[\"weights\"],\n",
    "}"
   ]
  },
  {
   "cell_type": "code",
   "execution_count": null,
   "metadata": {},
   "outputs": [],
   "source": [
    "moStressNeuralNetwork = MoStressNeuralNetwork(moStressConfigs, dataset)"
   ]
  },
  {
   "cell_type": "code",
   "execution_count": null,
   "metadata": {},
   "outputs": [],
   "source": [
    "moStressNeuralNetwork.execute()"
   ]
  },
  {
   "cell_type": "code",
   "execution_count": null,
   "metadata": {},
   "outputs": [],
   "source": [
    "evaluator = EvaluateModel(\n",
    "    { \"features\": validationData[\"features\"], \"targets\": validationData[\"targets\"] },\n",
    "    moStressNeuralNetwork.modelFullName,\n",
    "    moStressNeuralNetwork.model,\n",
    ")"
   ]
  },
  {
   "cell_type": "code",
   "execution_count": null,
   "metadata": {},
   "outputs": [],
   "source": [
    "evaluator.executeEvaluation()"
   ]
  }
 ],
 "metadata": {
  "kernelspec": {
   "display_name": "Python 3.10.4 64-bit",
   "language": "python",
   "name": "python3"
  },
  "language_info": {
   "codemirror_mode": {
    "name": "ipython",
    "version": 3
   },
   "file_extension": ".py",
   "mimetype": "text/x-python",
   "name": "python",
   "nbconvert_exporter": "python",
   "pygments_lexer": "ipython3",
   "version": "3.10.4"
  },
  "orig_nbformat": 4,
  "vscode": {
   "interpreter": {
    "hash": "916dbcbb3f70747c44a77c7bcd40155683ae19c65e1c03b4aa3499c5328201f1"
   }
  }
 },
 "nbformat": 4,
 "nbformat_minor": 2
}
